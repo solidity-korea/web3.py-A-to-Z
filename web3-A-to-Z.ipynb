{
 "cells": [
  {
   "cell_type": "markdown",
   "metadata": {},
   "source": [
    "# Geth 혹은 Ganache 실행 후 web3 와 연동"
   ]
  },
  {
   "cell_type": "code",
   "execution_count": null,
   "metadata": {},
   "outputs": [],
   "source": [
    "from web3 import Web3, HTTPProvider, IPCProvider\n",
    "web3 = Web3(HTTPProvider('http://localhost:7545')) # http://host:port"
   ]
  },
  {
   "cell_type": "code",
   "execution_count": 58,
   "metadata": {},
   "outputs": [
    {
     "data": {
      "text/plain": [
       "'0x5E298B3218bCF6d75550EB5a0b769Dd868636fe4'"
      ]
     },
     "execution_count": 58,
     "metadata": {},
     "output_type": "execute_result"
    }
   ],
   "source": [
    "web3.eth.coinbase"
   ]
  },
  {
   "cell_type": "code",
   "execution_count": 59,
   "metadata": {},
   "outputs": [
    {
     "data": {
      "text/plain": [
       "100000000000000000000"
      ]
     },
     "execution_count": 59,
     "metadata": {},
     "output_type": "execute_result"
    }
   ],
   "source": [
    "web3.eth.getBalance(web3.eth.coinbase)"
   ]
  },
  {
   "cell_type": "code",
   "execution_count": 60,
   "metadata": {},
   "outputs": [
    {
     "data": {
      "text/plain": [
       "['0x5E298B3218bCF6d75550EB5a0b769Dd868636fe4',\n",
       " '0x52B4440eE25746f4554bfEB6727A858FAdf7A694',\n",
       " '0x01906e452b7408Ad42C5da290e63878E0FE42474',\n",
       " '0xDc0Fab6D4759cba9493F0fDfA0558C2320c4A32C',\n",
       " '0xAeCE725a1e465995aadE529Abd98E5B009A2cAED',\n",
       " '0xF10858C020c237De6e3AE44536562A42b9E3FAa7',\n",
       " '0xFEd05330CaDCcbad9b717b5da027994Cd68d8e8F',\n",
       " '0x18A67C0910981DfA9ab74F36dc25b969816765c8',\n",
       " '0x420ED0347F542742484D0f00fFc00Cc8711E9360',\n",
       " '0x18C7971fa699D28Df26ee3f3eDE830C093716489']"
      ]
     },
     "execution_count": 60,
     "metadata": {},
     "output_type": "execute_result"
    }
   ],
   "source": [
    "web3.personal.listAccounts"
   ]
  },
  {
   "cell_type": "code",
   "execution_count": 7,
   "metadata": {},
   "outputs": [
    {
     "data": {
      "text/plain": [
       "'0x7295f80912F84C464c68127B86288f5E85a0aA9E'"
      ]
     },
     "execution_count": 7,
     "metadata": {},
     "output_type": "execute_result"
    }
   ],
   "source": [
    "web3.personal.newAccount(password='test_password!@#')"
   ]
  },
  {
   "cell_type": "code",
   "execution_count": 8,
   "metadata": {},
   "outputs": [
    {
     "data": {
      "text/plain": [
       "['0x5E298B3218bCF6d75550EB5a0b769Dd868636fe4',\n",
       " '0x52B4440eE25746f4554bfEB6727A858FAdf7A694',\n",
       " '0x01906e452b7408Ad42C5da290e63878E0FE42474',\n",
       " '0xDc0Fab6D4759cba9493F0fDfA0558C2320c4A32C',\n",
       " '0xAeCE725a1e465995aadE529Abd98E5B009A2cAED',\n",
       " '0xF10858C020c237De6e3AE44536562A42b9E3FAa7',\n",
       " '0xFEd05330CaDCcbad9b717b5da027994Cd68d8e8F',\n",
       " '0x18A67C0910981DfA9ab74F36dc25b969816765c8',\n",
       " '0x420ED0347F542742484D0f00fFc00Cc8711E9360',\n",
       " '0x18C7971fa699D28Df26ee3f3eDE830C093716489',\n",
       " '0x7295f80912F84C464c68127B86288f5E85a0aA9E']"
      ]
     },
     "execution_count": 8,
     "metadata": {},
     "output_type": "execute_result"
    }
   ],
   "source": [
    "web3.personal.listAccounts"
   ]
  },
  {
   "cell_type": "code",
   "execution_count": 9,
   "metadata": {},
   "outputs": [
    {
     "data": {
      "text/plain": [
       "'0x5E298B3218bCF6d75550EB5a0b769Dd868636fe4'"
      ]
     },
     "execution_count": 9,
     "metadata": {},
     "output_type": "execute_result"
    }
   ],
   "source": [
    "account_a = web3.personal.listAccounts[0]\n",
    "account_a"
   ]
  },
  {
   "cell_type": "code",
   "execution_count": 10,
   "metadata": {},
   "outputs": [
    {
     "data": {
      "text/plain": [
       "100000000000000000000"
      ]
     },
     "execution_count": 10,
     "metadata": {},
     "output_type": "execute_result"
    }
   ],
   "source": [
    "web3.eth.getBalance(account_a)"
   ]
  },
  {
   "cell_type": "code",
   "execution_count": 11,
   "metadata": {},
   "outputs": [
    {
     "data": {
      "text/plain": [
       "'0x18C7971fa699D28Df26ee3f3eDE830C093716489'"
      ]
     },
     "execution_count": 11,
     "metadata": {},
     "output_type": "execute_result"
    }
   ],
   "source": [
    "account_b = web3.personal.listAccounts[-2]\n",
    "account_b"
   ]
  },
  {
   "cell_type": "code",
   "execution_count": 12,
   "metadata": {},
   "outputs": [
    {
     "data": {
      "text/plain": [
       "100000000000000000000"
      ]
     },
     "execution_count": 12,
     "metadata": {},
     "output_type": "execute_result"
    }
   ],
   "source": [
    "web3.eth.getBalance(account_b)"
   ]
  },
  {
   "cell_type": "code",
   "execution_count": 13,
   "metadata": {},
   "outputs": [
    {
     "data": {
      "text/plain": [
       "True"
      ]
     },
     "execution_count": 13,
     "metadata": {},
     "output_type": "execute_result"
    }
   ],
   "source": [
    "web3.personal.unlockAccount(account_a,'passphrase', 0) # passphrase"
   ]
  },
  {
   "cell_type": "code",
   "execution_count": 14,
   "metadata": {},
   "outputs": [
    {
     "data": {
      "text/plain": [
       "5000000000000000000"
      ]
     },
     "execution_count": 14,
     "metadata": {},
     "output_type": "execute_result"
    }
   ],
   "source": [
    "send_amount = web3.toWei(5, 'ether')\n",
    "send_amount"
   ]
  },
  {
   "cell_type": "code",
   "execution_count": 15,
   "metadata": {},
   "outputs": [
    {
     "data": {
      "text/plain": [
       "HexBytes('0xe1105ab13079e629b191904a8309ce62b5bab66452e930b917b3ba7e384770e7')"
      ]
     },
     "execution_count": 15,
     "metadata": {},
     "output_type": "execute_result"
    }
   ],
   "source": [
    "web3.eth.sendTransaction({\"from\":account_a, \"to\":account_b, \"value\":send_amount})"
   ]
  },
  {
   "cell_type": "code",
   "execution_count": 16,
   "metadata": {},
   "outputs": [
    {
     "data": {
      "text/plain": [
       "94999999999999979000"
      ]
     },
     "execution_count": 16,
     "metadata": {},
     "output_type": "execute_result"
    }
   ],
   "source": [
    "web3.eth.getBalance(account_a)"
   ]
  },
  {
   "cell_type": "code",
   "execution_count": 17,
   "metadata": {},
   "outputs": [
    {
     "data": {
      "text/plain": [
       "105000000000000000000"
      ]
     },
     "execution_count": 17,
     "metadata": {},
     "output_type": "execute_result"
    }
   ],
   "source": [
    "web3.eth.getBalance(account_b)"
   ]
  },
  {
   "cell_type": "code",
   "execution_count": null,
   "metadata": {},
   "outputs": [],
   "source": []
  },
  {
   "cell_type": "code",
   "execution_count": 18,
   "metadata": {},
   "outputs": [
    {
     "data": {
      "text/plain": [
       "'0x4181195E1905b0A1b0Eb87847A014929783E1613'"
      ]
     },
     "execution_count": 18,
     "metadata": {},
     "output_type": "execute_result"
    }
   ],
   "source": [
    "web3.eth.enable_unaudited_features()\n",
    "account_tmp = web3.eth.account.create('salt')\n",
    "account_tmp.address"
   ]
  },
  {
   "cell_type": "code",
   "execution_count": 19,
   "metadata": {},
   "outputs": [
    {
     "data": {
      "text/plain": [
       "HexBytes('0xc54e080d7f105b9bf865bb779f4d8c0103a47ed1659ba6ebab85aec14a79bf0a')"
      ]
     },
     "execution_count": 19,
     "metadata": {},
     "output_type": "execute_result"
    }
   ],
   "source": [
    "account_tmp.privateKey"
   ]
  },
  {
   "cell_type": "code",
   "execution_count": 20,
   "metadata": {},
   "outputs": [],
   "source": [
    "account_c = web3.eth.account.privateKeyToAccount(\"0xc54e080d7f105b9bf865bb779f4d8c0103a47ed1659ba6ebab85aec14a79bf0a\")"
   ]
  },
  {
   "cell_type": "code",
   "execution_count": 21,
   "metadata": {},
   "outputs": [
    {
     "data": {
      "text/plain": [
       "'0x4181195E1905b0A1b0Eb87847A014929783E1613'"
      ]
     },
     "execution_count": 21,
     "metadata": {},
     "output_type": "execute_result"
    }
   ],
   "source": [
    "account_c.address"
   ]
  },
  {
   "cell_type": "code",
   "execution_count": 22,
   "metadata": {},
   "outputs": [
    {
     "data": {
      "text/plain": [
       "0"
      ]
     },
     "execution_count": 22,
     "metadata": {},
     "output_type": "execute_result"
    }
   ],
   "source": [
    "web3.eth.getBalance(account_c.address)"
   ]
  },
  {
   "cell_type": "code",
   "execution_count": 23,
   "metadata": {},
   "outputs": [
    {
     "data": {
      "text/plain": [
       "HexBytes('0x8c0aeefba44e806919a74eb98d88110408078d019fe7c206e456c350007e96bd')"
      ]
     },
     "execution_count": 23,
     "metadata": {},
     "output_type": "execute_result"
    }
   ],
   "source": [
    "send_amount = web3.toWei(5, 'ether')\n",
    "web3.eth.sendTransaction({\"from\":account_a, \"to\":account_c.address, \"value\":send_amount})"
   ]
  },
  {
   "cell_type": "code",
   "execution_count": 24,
   "metadata": {},
   "outputs": [
    {
     "data": {
      "text/plain": [
       "str"
      ]
     },
     "execution_count": 24,
     "metadata": {},
     "output_type": "execute_result"
    }
   ],
   "source": [
    "type(account_a)"
   ]
  },
  {
   "cell_type": "code",
   "execution_count": 25,
   "metadata": {},
   "outputs": [
    {
     "data": {
      "text/plain": [
       "eth_account.local.LocalAccount"
      ]
     },
     "execution_count": 25,
     "metadata": {},
     "output_type": "execute_result"
    }
   ],
   "source": [
    "type(account_c)"
   ]
  },
  {
   "cell_type": "code",
   "execution_count": 26,
   "metadata": {},
   "outputs": [
    {
     "data": {
      "text/plain": [
       "89999999999999958000"
      ]
     },
     "execution_count": 26,
     "metadata": {},
     "output_type": "execute_result"
    }
   ],
   "source": [
    "web3.eth.getBalance(account_a)"
   ]
  },
  {
   "cell_type": "code",
   "execution_count": 27,
   "metadata": {},
   "outputs": [
    {
     "data": {
      "text/plain": [
       "5000000000000000000"
      ]
     },
     "execution_count": 27,
     "metadata": {},
     "output_type": "execute_result"
    }
   ],
   "source": [
    "web3.eth.getBalance(account_c.address)"
   ]
  },
  {
   "cell_type": "code",
   "execution_count": 28,
   "metadata": {},
   "outputs": [
    {
     "data": {
      "text/plain": [
       "Decimal('5')"
      ]
     },
     "execution_count": 28,
     "metadata": {},
     "output_type": "execute_result"
    }
   ],
   "source": [
    "web3.fromWei(web3.eth.getBalance(account_c.address), 'ether')"
   ]
  },
  {
   "cell_type": "code",
   "execution_count": 29,
   "metadata": {},
   "outputs": [],
   "source": [
    "# tx = {\"from\":account_b, \"to\":account_a, \"value\":web3.toWei(500, 'ether'), \"gas\":1000000}"
   ]
  },
  {
   "cell_type": "code",
   "execution_count": 30,
   "metadata": {},
   "outputs": [],
   "source": [
    "tx = {\n",
    "    'from': account_c.address,\n",
    "    'to': account_a,\n",
    "    'value': web3.toWei(1, 'ether'),\n",
    "    'gas': 21000,  # gas limit,  Predefined minimum gas fee 21,000 for tx\n",
    "    'gasPrice': 0,\n",
    "    'chainId': 930114, # prevent replay attack\n",
    "    'nonce': web3.eth.getTransactionCount(account_c.address)  # pending 이 쌓이면 nonce 증가안되므로 수동관리 필요\n",
    "}"
   ]
  },
  {
   "cell_type": "code",
   "execution_count": 31,
   "metadata": {},
   "outputs": [
    {
     "data": {
      "text/plain": [
       "0"
      ]
     },
     "execution_count": 31,
     "metadata": {},
     "output_type": "execute_result"
    }
   ],
   "source": [
    "web3.eth.getTransactionCount(account_c.address)"
   ]
  },
  {
   "cell_type": "code",
   "execution_count": 32,
   "metadata": {},
   "outputs": [],
   "source": [
    "tx_signed = web3.eth.account.signTransaction(tx, account_c.privateKey)"
   ]
  },
  {
   "cell_type": "code",
   "execution_count": 33,
   "metadata": {},
   "outputs": [
    {
     "data": {
      "text/plain": [
       "AttrDict({'s': 53805552601297470949745518196951919475085540397646309996115705889799789173838, 'v': 1860264, 'rawTransaction': HexBytes('0xf86a8080825208945e298b3218bcf6d75550eb5a0b769dd868636fe4880de0b6b3a764000080831c62a8a08d5db5eeacf0619b773d3d594fa9ac7b28281c5f0c5111a19934b3d5f20d9d39a076f4dd127fa999b75d15af90c96d01b786bf2eb391dc2fb407c11944cc6d5c4e'), 'r': 63941684078033627666483657759905797890446919905018152962604471123304680103225, 'hash': HexBytes('0xf47408cfacaa29898c05d6192702df9fe676c1dcf75f8c00e823660c504ef848')})"
      ]
     },
     "execution_count": 33,
     "metadata": {},
     "output_type": "execute_result"
    }
   ],
   "source": [
    "tx_signed"
   ]
  },
  {
   "cell_type": "code",
   "execution_count": 34,
   "metadata": {},
   "outputs": [
    {
     "data": {
      "text/plain": [
       "HexBytes('0xe7268356d52e5880d4e496886e1ea97ecc6353098dfdee803cd3720391f9c308')"
      ]
     },
     "execution_count": 34,
     "metadata": {},
     "output_type": "execute_result"
    }
   ],
   "source": [
    "web3.eth.sendRawTransaction(tx_signed.rawTransaction)"
   ]
  },
  {
   "cell_type": "code",
   "execution_count": 35,
   "metadata": {},
   "outputs": [
    {
     "data": {
      "text/plain": [
       "90999999999999958000"
      ]
     },
     "execution_count": 35,
     "metadata": {},
     "output_type": "execute_result"
    }
   ],
   "source": [
    "web3.eth.getBalance(account_a)"
   ]
  },
  {
   "cell_type": "code",
   "execution_count": 36,
   "metadata": {},
   "outputs": [
    {
     "data": {
      "text/plain": [
       "4000000000000000000"
      ]
     },
     "execution_count": 36,
     "metadata": {},
     "output_type": "execute_result"
    }
   ],
   "source": [
    "web3.eth.getBalance(account_c.address)"
   ]
  },
  {
   "cell_type": "code",
   "execution_count": null,
   "metadata": {},
   "outputs": [],
   "source": []
  },
  {
   "cell_type": "code",
   "execution_count": null,
   "metadata": {},
   "outputs": [],
   "source": []
  }
 ],
 "metadata": {
  "kernelspec": {
   "display_name": "virtualpy3",
   "language": "python",
   "name": "virtualpy3"
  },
  "language_info": {
   "codemirror_mode": {
    "name": "ipython",
    "version": 3
   },
   "file_extension": ".py",
   "mimetype": "text/x-python",
   "name": "python",
   "nbconvert_exporter": "python",
   "pygments_lexer": "ipython3",
   "version": "3.6.5"
  }
 },
 "nbformat": 4,
 "nbformat_minor": 1
}
