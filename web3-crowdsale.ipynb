{
 "cells": [
  {
   "cell_type": "markdown",
   "metadata": {},
   "source": [
    "# infura ropstan 연결 "
   ]
  },
  {
   "cell_type": "code",
   "execution_count": 26,
   "metadata": {},
   "outputs": [
    {
     "data": {
      "text/plain": [
       "'4.0.0'"
      ]
     },
     "execution_count": 26,
     "metadata": {},
     "output_type": "execute_result"
    }
   ],
   "source": [
    "import web3\n",
    "web3.__version__"
   ]
  },
  {
   "cell_type": "code",
   "execution_count": 27,
   "metadata": {},
   "outputs": [],
   "source": [
    "from web3 import Web3, HTTPProvider, IPCProvider\n",
    "# web3 = Web3(HTTPProvider('http://localhost:7545')) # http://host:port\n",
    "infura_provider = HTTPProvider('https://ropsten.infura.io')\n",
    "w3 = Web3(infura_provider)"
   ]
  },
  {
   "cell_type": "markdown",
   "metadata": {},
   "source": [
    "## contract address check ( 대소문자 checksum )"
   ]
  },
  {
   "cell_type": "code",
   "execution_count": 60,
   "metadata": {},
   "outputs": [
    {
     "data": {
      "text/plain": [
       "'0x5D45E49e43a1E89d8f1306dBC239328FA4cCf4a3'"
      ]
     },
     "execution_count": 60,
     "metadata": {},
     "output_type": "execute_result"
    }
   ],
   "source": [
    "crowdsale_contract_address = \"0x5d45e49e43a1e89d8f1306dbc239328fa4ccf4a3\"\n",
    "crowdsale_contract_address = w3.toChecksumAddress(crowdsale_contract_address)  # https://github.com/ethereum/web3.py/issues/740\n",
    "crowdsale_contract_address"
   ]
  },
  {
   "cell_type": "code",
   "execution_count": 53,
   "metadata": {},
   "outputs": [
    {
     "data": {
      "text/plain": [
       "'0x00F87701Da817AeebeA51435A48576922728d1bE'"
      ]
     },
     "execution_count": 53,
     "metadata": {},
     "output_type": "execute_result"
    }
   ],
   "source": [
    "token_contract_address = \"0x00F87701Da817AeebeA51435A48576922728d1bE\"\n",
    "token_contract_address = w3.toChecksumAddress(token_contract_address)\n",
    "token_contract_address"
   ]
  },
  {
   "cell_type": "markdown",
   "metadata": {},
   "source": [
    "## abi json 파일 불러오기 "
   ]
  },
  {
   "cell_type": "code",
   "execution_count": 54,
   "metadata": {},
   "outputs": [],
   "source": [
    "import json\n",
    "crowdsale_abi = json.load(open('abi_crowdsale.json','r'))"
   ]
  },
  {
   "cell_type": "code",
   "execution_count": 55,
   "metadata": {},
   "outputs": [
    {
     "data": {
      "text/plain": [
       "[{'constant': False,\n",
       "  'inputs': [{'name': '_beneficiary', 'type': 'address'}],\n",
       "  'name': 'buyTokens',\n",
       "  'outputs': [],\n",
       "  'payable': True,\n",
       "  'stateMutability': 'payable',\n",
       "  'type': 'function'},\n",
       " {'anonymous': False,\n",
       "  'inputs': [{'indexed': True, 'name': 'purchaser', 'type': 'address'},\n",
       "   {'indexed': True, 'name': 'beneficiary', 'type': 'address'},\n",
       "   {'indexed': False, 'name': 'value', 'type': 'uint256'},\n",
       "   {'indexed': False, 'name': 'amount', 'type': 'uint256'}],\n",
       "  'name': 'TokenPurchase',\n",
       "  'type': 'event'},\n",
       " {'payable': True, 'stateMutability': 'payable', 'type': 'fallback'},\n",
       " {'inputs': [],\n",
       "  'payable': False,\n",
       "  'stateMutability': 'nonpayable',\n",
       "  'type': 'constructor'},\n",
       " {'constant': True,\n",
       "  'inputs': [],\n",
       "  'name': 'cap',\n",
       "  'outputs': [{'name': '', 'type': 'uint256'}],\n",
       "  'payable': False,\n",
       "  'stateMutability': 'view',\n",
       "  'type': 'function'},\n",
       " {'constant': True,\n",
       "  'inputs': [],\n",
       "  'name': 'capReached',\n",
       "  'outputs': [{'name': '', 'type': 'bool'}],\n",
       "  'payable': False,\n",
       "  'stateMutability': 'view',\n",
       "  'type': 'function'},\n",
       " {'constant': True,\n",
       "  'inputs': [],\n",
       "  'name': 'rate',\n",
       "  'outputs': [{'name': '', 'type': 'uint256'}],\n",
       "  'payable': False,\n",
       "  'stateMutability': 'view',\n",
       "  'type': 'function'},\n",
       " {'constant': True,\n",
       "  'inputs': [],\n",
       "  'name': 'token',\n",
       "  'outputs': [{'name': '', 'type': 'address'}],\n",
       "  'payable': False,\n",
       "  'stateMutability': 'view',\n",
       "  'type': 'function'},\n",
       " {'constant': True,\n",
       "  'inputs': [],\n",
       "  'name': 'wallet',\n",
       "  'outputs': [{'name': '', 'type': 'address'}],\n",
       "  'payable': False,\n",
       "  'stateMutability': 'view',\n",
       "  'type': 'function'},\n",
       " {'constant': True,\n",
       "  'inputs': [],\n",
       "  'name': 'weiRaised',\n",
       "  'outputs': [{'name': '', 'type': 'uint256'}],\n",
       "  'payable': False,\n",
       "  'stateMutability': 'view',\n",
       "  'type': 'function'}]"
      ]
     },
     "execution_count": 55,
     "metadata": {},
     "output_type": "execute_result"
    }
   ],
   "source": [
    "crowdsale_abi"
   ]
  },
  {
   "cell_type": "markdown",
   "metadata": {},
   "source": [
    "## contract 객체 생성"
   ]
  },
  {
   "cell_type": "code",
   "execution_count": 58,
   "metadata": {},
   "outputs": [],
   "source": [
    "crowdsale = w3.eth.contract(\n",
    "    address=crowdsale_contract_address,\n",
    "    abi=crowdsale_abi,\n",
    ")"
   ]
  },
  {
   "cell_type": "markdown",
   "metadata": {},
   "source": [
    "## cap, weiRaised public view function 호출 "
   ]
  },
  {
   "cell_type": "code",
   "execution_count": 90,
   "metadata": {},
   "outputs": [
    {
     "data": {
      "text/plain": [
       "100000000000000000000"
      ]
     },
     "execution_count": 90,
     "metadata": {},
     "output_type": "execute_result"
    }
   ],
   "source": [
    "cap = crowdsale.functions.cap().call()\n",
    "cap"
   ]
  },
  {
   "cell_type": "code",
   "execution_count": 91,
   "metadata": {},
   "outputs": [
    {
     "data": {
      "text/plain": [
       "Decimal('100')"
      ]
     },
     "execution_count": 91,
     "metadata": {},
     "output_type": "execute_result"
    }
   ],
   "source": [
    "w3.fromWei(cap, 'ether')"
   ]
  },
  {
   "cell_type": "code",
   "execution_count": 92,
   "metadata": {},
   "outputs": [],
   "source": [
    "weiRaised = crowdsale.functions.weiRaised().call()"
   ]
  },
  {
   "cell_type": "code",
   "execution_count": 93,
   "metadata": {},
   "outputs": [
    {
     "data": {
      "text/plain": [
       "Decimal('2.000000000000000002')"
      ]
     },
     "execution_count": 93,
     "metadata": {},
     "output_type": "execute_result"
    }
   ],
   "source": [
    "w3.fromWei(weiRaised, 'ether')"
   ]
  },
  {
   "cell_type": "markdown",
   "metadata": {},
   "source": [
    "## 도달률 계산 "
   ]
  },
  {
   "cell_type": "code",
   "execution_count": 94,
   "metadata": {},
   "outputs": [
    {
     "data": {
      "text/plain": [
       "2.0"
      ]
     },
     "execution_count": 94,
     "metadata": {},
     "output_type": "execute_result"
    }
   ],
   "source": [
    "raised_rate = weiRaised / cap * 100\n",
    "raised_rate"
   ]
  },
  {
   "cell_type": "markdown",
   "metadata": {},
   "source": [
    "## 도달률 함수화 "
   ]
  },
  {
   "cell_type": "code",
   "execution_count": 95,
   "metadata": {},
   "outputs": [],
   "source": [
    "def get_raised_rate(contract):\n",
    "    return contract.functions.weiRaised().call() / contract.functions.cap().call() * 100"
   ]
  },
  {
   "cell_type": "code",
   "execution_count": 96,
   "metadata": {},
   "outputs": [
    {
     "data": {
      "text/plain": [
       "2.0"
      ]
     },
     "execution_count": 96,
     "metadata": {},
     "output_type": "execute_result"
    }
   ],
   "source": [
    "get_raised_rate(crowdsale)"
   ]
  },
  {
   "cell_type": "code",
   "execution_count": null,
   "metadata": {},
   "outputs": [],
   "source": []
  }
 ],
 "metadata": {
  "kernelspec": {
   "display_name": "virtualpy3",
   "language": "python",
   "name": "virtualpy3"
  },
  "language_info": {
   "codemirror_mode": {
    "name": "ipython",
    "version": 3
   },
   "file_extension": ".py",
   "mimetype": "text/x-python",
   "name": "python",
   "nbconvert_exporter": "python",
   "pygments_lexer": "ipython3",
   "version": "3.6.5"
  }
 },
 "nbformat": 4,
 "nbformat_minor": 1
}
